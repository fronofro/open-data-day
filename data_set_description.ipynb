{
 "cells": [
  {
   "cell_type": "markdown",
   "metadata": {},
   "source": [
    "# OpenTransit Data Set Description"
   ]
  },
  {
   "cell_type": "code",
   "execution_count": 1,
   "metadata": {},
   "outputs": [],
   "source": [
    "import json\n",
    "\n",
    "import pandas as pd"
   ]
  },
  {
   "cell_type": "code",
   "execution_count": 2,
   "metadata": {},
   "outputs": [],
   "source": [
    "def load_json(filename = 'sample_routes_data_15s.json'):\n",
    "    with open(filename, 'r') as f:\n",
    "        return json.load(f)"
   ]
  },
  {
   "cell_type": "code",
   "execution_count": 3,
   "metadata": {},
   "outputs": [],
   "source": [
    "bus_locations = load_json()"
   ]
  },
  {
   "cell_type": "code",
   "execution_count": 7,
   "metadata": {},
   "outputs": [],
   "source": [
    "route_1_buses = bus_locations[0]"
   ]
  },
  {
   "cell_type": "code",
   "execution_count": 8,
   "metadata": {},
   "outputs": [
    {
     "data": {
      "text/plain": [
       "dict_keys(['rid', 'routeStates', 'stops'])"
      ]
     },
     "execution_count": 8,
     "metadata": {},
     "output_type": "execute_result"
    }
   ],
   "source": [
    "route_1_buses.keys()"
   ]
  },
  {
   "cell_type": "markdown",
   "metadata": {},
   "source": [
    "The json files `all_routes_data_15s.json`, `sample_routes_data_15s.json`, and `route_14_week_data.json` will load as a list of dicts, where each dict contains the bus location data from all the buses on one particular route. Each dict has the following keys:"
   ]
  },
  {
   "cell_type": "code",
   "execution_count": 14,
   "metadata": {},
   "outputs": [
    {
     "data": {
      "text/plain": [
       "'1'"
      ]
     },
     "execution_count": 14,
     "metadata": {},
     "output_type": "execute_result"
    }
   ],
   "source": [
    "route_1_buses['rid']"
   ]
  },
  {
   "cell_type": "markdown",
   "metadata": {},
   "source": [
    "- `rid` is the route ID"
   ]
  },
  {
   "cell_type": "code",
   "execution_count": 12,
   "metadata": {},
   "outputs": [
    {
     "data": {
      "text/plain": [
       "{'vtime': '1539586814511',\n",
       " 'vehicles': [{'vid': '5621',\n",
       "   'lat': 37.790165,\n",
       "   'lon': -122.432144,\n",
       "   'heading': 255,\n",
       "   'did': '1____O_F00'},\n",
       "  {'vid': '5556',\n",
       "   'lat': 37.795433,\n",
       "   'lon': -122.396812,\n",
       "   'heading': 218,\n",
       "   'did': '1____O_F00'},\n",
       "  {'vid': '5610',\n",
       "   'lat': 37.7837559,\n",
       "   'lon': -122.488441,\n",
       "   'heading': 75,\n",
       "   'did': '1____I_F00'},\n",
       "  {'vid': '5582',\n",
       "   'lat': 37.779846,\n",
       "   'lon': -122.492851,\n",
       "   'heading': 269,\n",
       "   'did': '1____I_F00'},\n",
       "  {'vid': '5606',\n",
       "   'lat': 37.793411,\n",
       "   'lon': -122.413483,\n",
       "   'heading': 75,\n",
       "   'did': '1____I_F00'}]}"
      ]
     },
     "execution_count": 12,
     "metadata": {},
     "output_type": "execute_result"
    }
   ],
   "source": [
    "route_1_buses['routeStates'][0]"
   ]
  },
  {
   "cell_type": "markdown",
   "metadata": {},
   "source": [
    "- `routeStates` is a list of \"snapshots\" of the buses on the route at particular points in time. Each element in `routeStates` represents the state of the buses on the route at a particular time, and is a dict with the following keys:\n",
    "\n",
    "    - `vtime` is the time at which the location data was recorded\n",
    "\n",
    "    - `vehicles` is a list of each vehicle's latitude/longitude, heading, and direction (inbound/outbound) at that particular time, along with a vehicle id `vid` to identify each vehicle"
   ]
  },
  {
   "cell_type": "code",
   "execution_count": 13,
   "metadata": {},
   "outputs": [
    {
     "data": {
      "text/plain": [
       "{'sid': '4015',\n",
       " 'name': 'Clay St & Drumm St',\n",
       " 'lat': 37.7954399,\n",
       " 'lon': -122.39682}"
      ]
     },
     "execution_count": 13,
     "metadata": {},
     "output_type": "execute_result"
    }
   ],
   "source": [
    "route_1_buses['stops'][0]"
   ]
  },
  {
   "cell_type": "markdown",
   "metadata": {},
   "source": [
    "- `stops` is a list containing information about each stop on the route. Each element contains identifying information for each stop (`sid` and `name`) along with geographical data (`lat` and `lon`)\n",
    "    "
   ]
  },
  {
   "cell_type": "code",
   "execution_count": null,
   "metadata": {},
   "outputs": [],
   "source": []
  }
 ],
 "metadata": {
  "kernelspec": {
   "display_name": "Python 3",
   "language": "python",
   "name": "python3"
  },
  "language_info": {
   "codemirror_mode": {
    "name": "ipython",
    "version": 3
   },
   "file_extension": ".py",
   "mimetype": "text/x-python",
   "name": "python",
   "nbconvert_exporter": "python",
   "pygments_lexer": "ipython3",
   "version": "3.7.1"
  }
 },
 "nbformat": 4,
 "nbformat_minor": 2
}
