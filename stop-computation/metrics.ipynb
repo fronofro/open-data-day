{
 "cells": [
  {
   "cell_type": "code",
   "execution_count": 1,
   "metadata": {},
   "outputs": [
    {
     "ename": "ImportError",
     "evalue": "attempted relative import with no known parent package",
     "output_type": "error",
     "traceback": [
      "\u001b[0;31m---------------------------------------------------------------------------\u001b[0m",
      "\u001b[0;31mImportError\u001b[0m                               Traceback (most recent call last)",
      "\u001b[0;32m<ipython-input-1-131390cb35c8>\u001b[0m in \u001b[0;36m<module>\u001b[0;34m\u001b[0m\n\u001b[1;32m      1\u001b[0m \u001b[0;32mimport\u001b[0m \u001b[0mpandas\u001b[0m \u001b[0;32mas\u001b[0m \u001b[0mpd\u001b[0m\u001b[0;34m\u001b[0m\u001b[0;34m\u001b[0m\u001b[0m\n\u001b[1;32m      2\u001b[0m \u001b[0;34m\u001b[0m\u001b[0m\n\u001b[0;32m----> 3\u001b[0;31m \u001b[0;32mimport\u001b[0m \u001b[0mget_stops\u001b[0m\u001b[0;34m\u001b[0m\u001b[0;34m\u001b[0m\u001b[0m\n\u001b[0m\u001b[1;32m      4\u001b[0m \u001b[0;34m\u001b[0m\u001b[0m\n\u001b[1;32m      5\u001b[0m \u001b[0;34m\u001b[0m\u001b[0m\n",
      "\u001b[0;32m~/open-data-day/stop-computation/get_stops.py\u001b[0m in \u001b[0;36m<module>\u001b[0;34m\u001b[0m\n\u001b[1;32m      5\u001b[0m \u001b[0;32mfrom\u001b[0m \u001b[0mitertools\u001b[0m \u001b[0;32mimport\u001b[0m \u001b[0mproduct\u001b[0m\u001b[0;34m\u001b[0m\u001b[0;34m\u001b[0m\u001b[0m\n\u001b[1;32m      6\u001b[0m \u001b[0;32mfrom\u001b[0m \u001b[0mfunctools\u001b[0m \u001b[0;32mimport\u001b[0m \u001b[0mreduce\u001b[0m\u001b[0;34m\u001b[0m\u001b[0;34m\u001b[0m\u001b[0m\n\u001b[0;32m----> 7\u001b[0;31m \u001b[0;32mfrom\u001b[0m \u001b[0;34m.\u001b[0m\u001b[0meclipses\u001b[0m \u001b[0;32mimport\u001b[0m \u001b[0mquery_graphql\u001b[0m\u001b[0;34m,\u001b[0m \u001b[0mproduce_buses\u001b[0m\u001b[0;34m,\u001b[0m \u001b[0mproduce_stops\u001b[0m\u001b[0;34m,\u001b[0m \u001b[0mfind_eclipses\u001b[0m\u001b[0;34m,\u001b[0m \u001b[0mfind_nadirs\u001b[0m\u001b[0;34m\u001b[0m\u001b[0;34m\u001b[0m\u001b[0m\n\u001b[0m\u001b[1;32m      8\u001b[0m \u001b[0;34m\u001b[0m\u001b[0m\n\u001b[1;32m      9\u001b[0m \u001b[0;32mimport\u001b[0m \u001b[0mpandas\u001b[0m \u001b[0;32mas\u001b[0m \u001b[0mpd\u001b[0m\u001b[0;34m\u001b[0m\u001b[0;34m\u001b[0m\u001b[0m\n",
      "\u001b[0;31mImportError\u001b[0m: attempted relative import with no known parent package"
     ]
    }
   ],
   "source": [
    "from get_stops import get_stops\n",
    "\n",
    "\n",
    "def test():\n",
    "    return \"test test test\"\n",
    "\n",
    "\n",
    "def get_average_waiting_time(stop_id, route_id, direction,\n",
    "                             date_range = [d.date().strftime(\"%Y-%m-%d\") for d in pd.date_range(pd.datetime.today(), periods=30).tolist()],\n",
    "                             time_range = (\"00:00\", \"23:59\")):\n",
    "    \"\"\"Gets average waiting time for all buses with given parameters.\n",
    "\n",
    "    Uses historical data to compute this. Gets the average waiting time for all\n",
    "    buses at the given stop, on the given route/direction, within the given\n",
    "    time range and date range.\n",
    "\n",
    "    Can be used to answer questions like, \"what's the average waiting time at\n",
    "    the 9th & Mission stop on the outbound 14 line from 9am-5pm in the last\n",
    "    month?\"\n",
    "\n",
    "    Args:\n",
    "        stop_id (str): the numeric ID of the bus stop, e.g. \"4970\"\n",
    "        route_id (str): the numeric ID of the bus route, e.g. \"12\"\n",
    "        direction (str): \"O\" for outbound, \"I\" for inbound\n",
    "        date_range (list(str)): a list of strings representing dates to consider,\n",
    "            formatted as `YYYY-MM-DD`. if not passed, defaults to the last month.\n",
    "        time_range ((str, str)): a tuple with start and end times\n",
    "            in Pacific Time (UTC-8), formatted as `HH:MM`\n",
    "\n",
    "    Returns:\n",
    "        double: average waiting time, in minutes\n",
    "    \"\"\"\n",
    "    stops = get_stops.get_stops(date_range, [route_id], f\"{route_id}___{direction}_F00\", [stop_id], time_range)\n",
    "    waits = get_stops.all_wait_times(stops, time_range, ['SID'])\n",
    "\n",
    "    # TODO: later on, add filtering for days of week, dates, and times of year\n",
    "\n",
    "    # This is a stub function so we return some random number :)\n",
    "    return waits['WAIT'].mean()/60\n",
    "\n",
    "\"\"\"\n",
    "josh's comments\n",
    "\n",
    "  # For\n",
    "  #  - last weekday\n",
    "  #  - last weekend day\n",
    "  #  - last full work week\n",
    "  #  - last full weekend\n",
    "  #  - this month\n",
    "  #  - last month\n",
    "  #  - last 3 months\n",
    "  #  - last year\n",
    "  #  - last 5 years\n",
    "  #  calculate average for each time_buckets\n",
    "  #  calculate variability of each time buckets\n",
    "  #  include comparison of actual to scheduled\n",
    "\n",
    "\n",
    "# \"\"\""
   ]
  }
 ],
 "metadata": {
  "kernelspec": {
   "display_name": "Python 3",
   "language": "python",
   "name": "python3"
  },
  "language_info": {
   "codemirror_mode": {
    "name": "ipython",
    "version": 3
   },
   "file_extension": ".py",
   "mimetype": "text/x-python",
   "name": "python",
   "nbconvert_exporter": "python",
   "pygments_lexer": "ipython3",
   "version": "3.6.7"
  }
 },
 "nbformat": 4,
 "nbformat_minor": 2
}
